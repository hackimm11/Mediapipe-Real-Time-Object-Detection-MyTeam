{
 "cells": [
  {
   "cell_type": "code",
   "execution_count": null,
   "metadata": {},
   "outputs": [
    {
     "ename": "",
     "evalue": "",
     "output_type": "error",
     "traceback": [
      "\u001b[1;31mThe kernel failed to start as a dll could not be loaded.\n",
      "\u001b[1;31mClick <a href='https://aka.ms/kernelFailuresDllLoad'>here</a> for more info."
     ]
    }
   ],
   "source": [
    "import numpy"
   ]
  },
  {
   "cell_type": "code",
   "execution_count": null,
   "metadata": {},
   "outputs": [
    {
     "ename": "",
     "evalue": "",
     "output_type": "error",
     "traceback": [
      "\u001b[1;31mThe kernel failed to start as a dll could not be loaded.\n",
      "\u001b[1;31mClick <a href='https://aka.ms/kernelFailuresDllLoad'>here</a> for more info."
     ]
    }
   ],
   "source": [
    "\n",
    "# import cv2\n",
    "# import mediapipe as mp\n",
    "import numpy as np\n",
    "# from mediapipe.tasks import python\n",
    "# from mediapipe.tasks.python import vision\n",
    "\n"
   ]
  },
  {
   "cell_type": "code",
   "execution_count": null,
   "metadata": {},
   "outputs": [],
   "source": [
    "# Configuration du modèle (par exemple, SSD MobileNetV2)\n",
    "base_options = python.BaseOptions(model_asset_path='ssd_mobilenet_v2.tflite')\n",
    "options = vision.ObjectDetectorOptions(base_options=base_options, score_threshold=0.5)\n",
    "detector = vision.ObjectDetector.create_from_options(options)\n",
    "\n",
    "# Ouverture de la webcam avec OpenCV\n",
    "cap = cv2.VideoCapture(0)\n",
    "\n",
    "while cap.isOpened():\n",
    "    ret, frame = cap.read()\n",
    "    if not ret:\n",
    "        break\n",
    "\n",
    "    # Conversion de la frame en objet Image de Mediapipe (format RGB)\n",
    "    image = mp.Image(image_format=mp.ImageFormat.SRGB, data=frame)\n",
    "    detection_result = detector.detect(image)\n",
    "\n",
    "    # Copie de l'image pour l'annotation\n",
    "    annotated_frame = frame.copy()\n",
    "    if detection_result.detections:\n",
    "        for detection in detection_result.detections:\n",
    "            # Calcul de la boîte englobante en pixels à partir de coordonnées normalisées\n",
    "            h, w, _ = frame.shape\n",
    "            x_center = detection.bounding_box.x_center\n",
    "            y_center = detection.bounding_box.y_center\n",
    "            width_box = detection.bounding_box.width\n",
    "            height_box = detection.bounding_box.height\n",
    "            x_min = int((x_center - width_box / 2) * w)\n",
    "            y_min = int((y_center - height_box / 2) * h)\n",
    "            x_max = int((x_center + width_box / 2) * w)\n",
    "            y_max = int((y_center + height_box / 2) * h)\n",
    "\n",
    "            # Dessiner la boîte englobante et l'étiquette (si disponible)\n",
    "            cv2.rectangle(annotated_frame, (x_min, y_min), (x_max, y_max), (0, 255, 0), 2)\n",
    "            label = detection.categories[0].category_name if detection.categories else 'Object'\n",
    "            cv2.putText(annotated_frame, label, (x_min, y_min - 10),\n",
    "                        cv2.FONT_HERSHEY_SIMPLEX, 0.5, (0, 255, 0), 2)\n",
    "\n",
    "    # Affichage en temps réel\n",
    "    cv2.imshow(\"Real-time Object Detection\", annotated_frame)\n",
    "    if cv2.waitKey(1) & 0xFF == ord('q'):\n",
    "        break\n",
    "\n",
    "# if main():\n",
    "cap.release()\n",
    "cv2.destroyAllWindows()\n"
   ]
  }
 ],
 "metadata": {
  "kernelspec": {
   "display_name": "base",
   "language": "python",
   "name": "python3"
  },
  "language_info": {
   "name": "python",
   "version": "3.12.4"
  }
 },
 "nbformat": 4,
 "nbformat_minor": 2
}
